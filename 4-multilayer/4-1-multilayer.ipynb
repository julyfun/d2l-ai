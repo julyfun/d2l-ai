{
 "cells": [
  {
   "cell_type": "code",
   "execution_count": null,
   "metadata": {},
   "outputs": [],
   "source": [
    "# https://zh.d2l.ai/chapter_multilayer-perceptrons/mlp.html\n",
    "# ReLU。获得函数可以用 torch.relu()，这不是网络层而是一个函数，用来看看的\n",
    "# sigmoid\n",
    "# tanh\n"
   ]
  }
 ],
 "metadata": {
  "language_info": {
   "name": "python"
  }
 },
 "nbformat": 4,
 "nbformat_minor": 2
}
